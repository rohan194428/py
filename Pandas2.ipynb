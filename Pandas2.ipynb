{
 "cells": [
  {
   "cell_type": "code",
   "execution_count": 1,
   "metadata": {},
   "outputs": [],
   "source": [
    "import pandas as pd"
   ]
  },
  {
   "cell_type": "code",
   "execution_count": 2,
   "metadata": {},
   "outputs": [
    {
     "data": {
      "text/plain": [
       "'C:\\\\Users\\\\ROHAN'"
      ]
     },
     "execution_count": 2,
     "metadata": {},
     "output_type": "execute_result"
    }
   ],
   "source": [
    "pwd"
   ]
  },
  {
   "cell_type": "code",
   "execution_count": 3,
   "metadata": {},
   "outputs": [],
   "source": [
    "ecom=pd.read_csv(\"Ecommerce Purchases.csv\")"
   ]
  },
  {
   "cell_type": "code",
   "execution_count": 4,
   "metadata": {},
   "outputs": [
    {
     "data": {
      "text/html": [
       "<div>\n",
       "<style scoped>\n",
       "    .dataframe tbody tr th:only-of-type {\n",
       "        vertical-align: middle;\n",
       "    }\n",
       "\n",
       "    .dataframe tbody tr th {\n",
       "        vertical-align: top;\n",
       "    }\n",
       "\n",
       "    .dataframe thead th {\n",
       "        text-align: right;\n",
       "    }\n",
       "</style>\n",
       "<table border=\"1\" class=\"dataframe\">\n",
       "  <thead>\n",
       "    <tr style=\"text-align: right;\">\n",
       "      <th></th>\n",
       "      <th>Address</th>\n",
       "      <th>Lot</th>\n",
       "      <th>AM or PM</th>\n",
       "      <th>Browser Info</th>\n",
       "      <th>Company</th>\n",
       "      <th>Credit Card</th>\n",
       "      <th>CC Exp Date</th>\n",
       "      <th>CC Security Code</th>\n",
       "      <th>CC Provider</th>\n",
       "      <th>Email</th>\n",
       "      <th>Job</th>\n",
       "      <th>IP Address</th>\n",
       "      <th>Language</th>\n",
       "      <th>Purchase Price</th>\n",
       "    </tr>\n",
       "  </thead>\n",
       "  <tbody>\n",
       "    <tr>\n",
       "      <td>0</td>\n",
       "      <td>16629 Pace Camp Apt. 448\\r\\nAlexisborough, NE ...</td>\n",
       "      <td>46 in</td>\n",
       "      <td>PM</td>\n",
       "      <td>Opera/9.56.(X11; Linux x86_64; sl-SI) Presto/2...</td>\n",
       "      <td>Martinez-Herman</td>\n",
       "      <td>6011929061123400</td>\n",
       "      <td>20-Feb</td>\n",
       "      <td>900</td>\n",
       "      <td>JCB 16 digit</td>\n",
       "      <td>pdunlap@yahoo.com</td>\n",
       "      <td>Scientist, product/process development</td>\n",
       "      <td>149.146.147.205</td>\n",
       "      <td>el</td>\n",
       "      <td>98.14</td>\n",
       "    </tr>\n",
       "    <tr>\n",
       "      <td>1</td>\n",
       "      <td>9374 Jasmine Spurs Suite 508\\r\\nSouth John, TN...</td>\n",
       "      <td>28 rn</td>\n",
       "      <td>PM</td>\n",
       "      <td>Opera/8.93.(Windows 98; Win 9x 4.90; en-US) Pr...</td>\n",
       "      <td>Fletcher, Richards and Whitaker</td>\n",
       "      <td>3337758169645350</td>\n",
       "      <td>18-Nov</td>\n",
       "      <td>561</td>\n",
       "      <td>Mastercard</td>\n",
       "      <td>anthony41@reed.com</td>\n",
       "      <td>Drilling engineer</td>\n",
       "      <td>15.160.41.51</td>\n",
       "      <td>fr</td>\n",
       "      <td>70.73</td>\n",
       "    </tr>\n",
       "    <tr>\n",
       "      <td>2</td>\n",
       "      <td>Unit 0065 Box 5052\\r\\nDPO AP 27450</td>\n",
       "      <td>94 vE</td>\n",
       "      <td>PM</td>\n",
       "      <td>Mozilla/5.0 (compatible; MSIE 9.0; Windows NT ...</td>\n",
       "      <td>Simpson, Williams and Pham</td>\n",
       "      <td>675957666125</td>\n",
       "      <td>19-Aug</td>\n",
       "      <td>699</td>\n",
       "      <td>JCB 16 digit</td>\n",
       "      <td>amymiller@morales-harrison.com</td>\n",
       "      <td>Customer service manager</td>\n",
       "      <td>132.207.160.22</td>\n",
       "      <td>de</td>\n",
       "      <td>0.95</td>\n",
       "    </tr>\n",
       "    <tr>\n",
       "      <td>3</td>\n",
       "      <td>7780 Julia Fords\\r\\nNew Stacy, WA 45798</td>\n",
       "      <td>36 vm</td>\n",
       "      <td>PM</td>\n",
       "      <td>Mozilla/5.0 (Macintosh; Intel Mac OS X 10_8_0 ...</td>\n",
       "      <td>Williams, Marshall and Buchanan</td>\n",
       "      <td>6011578504430710</td>\n",
       "      <td>24-Feb</td>\n",
       "      <td>384</td>\n",
       "      <td>Discover</td>\n",
       "      <td>brent16@olson-robinson.info</td>\n",
       "      <td>Drilling engineer</td>\n",
       "      <td>30.250.74.19</td>\n",
       "      <td>es</td>\n",
       "      <td>78.04</td>\n",
       "    </tr>\n",
       "    <tr>\n",
       "      <td>4</td>\n",
       "      <td>23012 Munoz Drive Suite 337\\r\\nNew Cynthia, TX...</td>\n",
       "      <td>20 IE</td>\n",
       "      <td>AM</td>\n",
       "      <td>Opera/9.58.(X11; Linux x86_64; it-IT) Presto/2...</td>\n",
       "      <td>Brown, Watson and Andrews</td>\n",
       "      <td>6011456623207990</td>\n",
       "      <td>25-Oct</td>\n",
       "      <td>678</td>\n",
       "      <td>Diners Club / Carte Blanche</td>\n",
       "      <td>christopherwright@gmail.com</td>\n",
       "      <td>Fine artist</td>\n",
       "      <td>24.140.33.94</td>\n",
       "      <td>es</td>\n",
       "      <td>77.82</td>\n",
       "    </tr>\n",
       "  </tbody>\n",
       "</table>\n",
       "</div>"
      ],
      "text/plain": [
       "                                             Address    Lot AM or PM  \\\n",
       "0  16629 Pace Camp Apt. 448\\r\\nAlexisborough, NE ...  46 in       PM   \n",
       "1  9374 Jasmine Spurs Suite 508\\r\\nSouth John, TN...  28 rn       PM   \n",
       "2                 Unit 0065 Box 5052\\r\\nDPO AP 27450  94 vE       PM   \n",
       "3            7780 Julia Fords\\r\\nNew Stacy, WA 45798  36 vm       PM   \n",
       "4  23012 Munoz Drive Suite 337\\r\\nNew Cynthia, TX...  20 IE       AM   \n",
       "\n",
       "                                        Browser Info  \\\n",
       "0  Opera/9.56.(X11; Linux x86_64; sl-SI) Presto/2...   \n",
       "1  Opera/8.93.(Windows 98; Win 9x 4.90; en-US) Pr...   \n",
       "2  Mozilla/5.0 (compatible; MSIE 9.0; Windows NT ...   \n",
       "3  Mozilla/5.0 (Macintosh; Intel Mac OS X 10_8_0 ...   \n",
       "4  Opera/9.58.(X11; Linux x86_64; it-IT) Presto/2...   \n",
       "\n",
       "                           Company       Credit Card CC Exp Date  \\\n",
       "0                  Martinez-Herman  6011929061123400      20-Feb   \n",
       "1  Fletcher, Richards and Whitaker  3337758169645350      18-Nov   \n",
       "2       Simpson, Williams and Pham      675957666125      19-Aug   \n",
       "3  Williams, Marshall and Buchanan  6011578504430710      24-Feb   \n",
       "4        Brown, Watson and Andrews  6011456623207990      25-Oct   \n",
       "\n",
       "   CC Security Code                  CC Provider  \\\n",
       "0               900                 JCB 16 digit   \n",
       "1               561                   Mastercard   \n",
       "2               699                 JCB 16 digit   \n",
       "3               384                     Discover   \n",
       "4               678  Diners Club / Carte Blanche   \n",
       "\n",
       "                            Email                                     Job  \\\n",
       "0               pdunlap@yahoo.com  Scientist, product/process development   \n",
       "1              anthony41@reed.com                       Drilling engineer   \n",
       "2  amymiller@morales-harrison.com                Customer service manager   \n",
       "3     brent16@olson-robinson.info                       Drilling engineer   \n",
       "4     christopherwright@gmail.com                             Fine artist   \n",
       "\n",
       "        IP Address Language  Purchase Price  \n",
       "0  149.146.147.205       el           98.14  \n",
       "1     15.160.41.51       fr           70.73  \n",
       "2   132.207.160.22       de            0.95  \n",
       "3     30.250.74.19       es           78.04  \n",
       "4     24.140.33.94       es           77.82  "
      ]
     },
     "execution_count": 4,
     "metadata": {},
     "output_type": "execute_result"
    }
   ],
   "source": [
    "ecom.head()"
   ]
  },
  {
   "cell_type": "code",
   "execution_count": 7,
   "metadata": {},
   "outputs": [
    {
     "name": "stdout",
     "output_type": "stream",
     "text": [
      "<class 'pandas.core.frame.DataFrame'>\n",
      "RangeIndex: 10000 entries, 0 to 9999\n",
      "Data columns (total 14 columns):\n",
      "Address             10000 non-null object\n",
      "Lot                 10000 non-null object\n",
      "AM or PM            10000 non-null object\n",
      "Browser Info        10000 non-null object\n",
      "Company             10000 non-null object\n",
      "Credit Card         10000 non-null int64\n",
      "CC Exp Date         10000 non-null object\n",
      "CC Security Code    10000 non-null int64\n",
      "CC Provider         10000 non-null object\n",
      "Email               10000 non-null object\n",
      "Job                 10000 non-null object\n",
      "IP Address          10000 non-null object\n",
      "Language            10000 non-null object\n",
      "Purchase Price      10000 non-null float64\n",
      "dtypes: float64(1), int64(2), object(11)\n",
      "memory usage: 1.1+ MB\n"
     ]
    }
   ],
   "source": [
    "ecom.info()"
   ]
  },
  {
   "cell_type": "code",
   "execution_count": 8,
   "metadata": {},
   "outputs": [
    {
     "data": {
      "text/plain": [
       "50.34730200000025"
      ]
     },
     "execution_count": 8,
     "metadata": {},
     "output_type": "execute_result"
    }
   ],
   "source": [
    "ecom['Purchase Price'].mean()"
   ]
  },
  {
   "cell_type": "code",
   "execution_count": 9,
   "metadata": {},
   "outputs": [
    {
     "data": {
      "text/plain": [
       "0.0"
      ]
     },
     "execution_count": 9,
     "metadata": {},
     "output_type": "execute_result"
    }
   ],
   "source": [
    "ecom['Purchase Price'].min()"
   ]
  },
  {
   "cell_type": "code",
   "execution_count": 10,
   "metadata": {},
   "outputs": [
    {
     "data": {
      "text/plain": [
       "99.99"
      ]
     },
     "execution_count": 10,
     "metadata": {},
     "output_type": "execute_result"
    }
   ],
   "source": [
    "ecom['Purchase Price'].max()"
   ]
  },
  {
   "cell_type": "code",
   "execution_count": 11,
   "metadata": {},
   "outputs": [
    {
     "data": {
      "text/plain": [
       "1098"
      ]
     },
     "execution_count": 11,
     "metadata": {},
     "output_type": "execute_result"
    }
   ],
   "source": [
    "sum(ecom['Language']=='en')"
   ]
  },
  {
   "cell_type": "code",
   "execution_count": 13,
   "metadata": {},
   "outputs": [
    {
     "data": {
      "text/plain": [
       "30"
      ]
     },
     "execution_count": 13,
     "metadata": {},
     "output_type": "execute_result"
    }
   ],
   "source": [
    "sum(ecom['Job']=='Lawyer')"
   ]
  },
  {
   "cell_type": "code",
   "execution_count": 14,
   "metadata": {},
   "outputs": [
    {
     "data": {
      "text/html": [
       "<div>\n",
       "<style scoped>\n",
       "    .dataframe tbody tr th:only-of-type {\n",
       "        vertical-align: middle;\n",
       "    }\n",
       "\n",
       "    .dataframe tbody tr th {\n",
       "        vertical-align: top;\n",
       "    }\n",
       "\n",
       "    .dataframe thead th {\n",
       "        text-align: right;\n",
       "    }\n",
       "</style>\n",
       "<table border=\"1\" class=\"dataframe\">\n",
       "  <thead>\n",
       "    <tr style=\"text-align: right;\">\n",
       "      <th></th>\n",
       "      <th>Address</th>\n",
       "      <th>Lot</th>\n",
       "      <th>AM or PM</th>\n",
       "      <th>Browser Info</th>\n",
       "      <th>Company</th>\n",
       "      <th>Credit Card</th>\n",
       "      <th>CC Exp Date</th>\n",
       "      <th>CC Security Code</th>\n",
       "      <th>CC Provider</th>\n",
       "      <th>Email</th>\n",
       "      <th>Job</th>\n",
       "      <th>IP Address</th>\n",
       "      <th>Language</th>\n",
       "      <th>Purchase Price</th>\n",
       "    </tr>\n",
       "  </thead>\n",
       "  <tbody>\n",
       "    <tr>\n",
       "      <td>0</td>\n",
       "      <td>16629 Pace Camp Apt. 448\\r\\nAlexisborough, NE ...</td>\n",
       "      <td>46 in</td>\n",
       "      <td>PM</td>\n",
       "      <td>Opera/9.56.(X11; Linux x86_64; sl-SI) Presto/2...</td>\n",
       "      <td>Martinez-Herman</td>\n",
       "      <td>6011929061123400</td>\n",
       "      <td>20-Feb</td>\n",
       "      <td>900</td>\n",
       "      <td>JCB 16 digit</td>\n",
       "      <td>pdunlap@yahoo.com</td>\n",
       "      <td>Scientist, product/process development</td>\n",
       "      <td>149.146.147.205</td>\n",
       "      <td>el</td>\n",
       "      <td>98.14</td>\n",
       "    </tr>\n",
       "    <tr>\n",
       "      <td>1</td>\n",
       "      <td>9374 Jasmine Spurs Suite 508\\r\\nSouth John, TN...</td>\n",
       "      <td>28 rn</td>\n",
       "      <td>PM</td>\n",
       "      <td>Opera/8.93.(Windows 98; Win 9x 4.90; en-US) Pr...</td>\n",
       "      <td>Fletcher, Richards and Whitaker</td>\n",
       "      <td>3337758169645350</td>\n",
       "      <td>18-Nov</td>\n",
       "      <td>561</td>\n",
       "      <td>Mastercard</td>\n",
       "      <td>anthony41@reed.com</td>\n",
       "      <td>Drilling engineer</td>\n",
       "      <td>15.160.41.51</td>\n",
       "      <td>fr</td>\n",
       "      <td>70.73</td>\n",
       "    </tr>\n",
       "    <tr>\n",
       "      <td>2</td>\n",
       "      <td>Unit 0065 Box 5052\\r\\nDPO AP 27450</td>\n",
       "      <td>94 vE</td>\n",
       "      <td>PM</td>\n",
       "      <td>Mozilla/5.0 (compatible; MSIE 9.0; Windows NT ...</td>\n",
       "      <td>Simpson, Williams and Pham</td>\n",
       "      <td>675957666125</td>\n",
       "      <td>19-Aug</td>\n",
       "      <td>699</td>\n",
       "      <td>JCB 16 digit</td>\n",
       "      <td>amymiller@morales-harrison.com</td>\n",
       "      <td>Customer service manager</td>\n",
       "      <td>132.207.160.22</td>\n",
       "      <td>de</td>\n",
       "      <td>0.95</td>\n",
       "    </tr>\n",
       "    <tr>\n",
       "      <td>3</td>\n",
       "      <td>7780 Julia Fords\\r\\nNew Stacy, WA 45798</td>\n",
       "      <td>36 vm</td>\n",
       "      <td>PM</td>\n",
       "      <td>Mozilla/5.0 (Macintosh; Intel Mac OS X 10_8_0 ...</td>\n",
       "      <td>Williams, Marshall and Buchanan</td>\n",
       "      <td>6011578504430710</td>\n",
       "      <td>24-Feb</td>\n",
       "      <td>384</td>\n",
       "      <td>Discover</td>\n",
       "      <td>brent16@olson-robinson.info</td>\n",
       "      <td>Drilling engineer</td>\n",
       "      <td>30.250.74.19</td>\n",
       "      <td>es</td>\n",
       "      <td>78.04</td>\n",
       "    </tr>\n",
       "    <tr>\n",
       "      <td>4</td>\n",
       "      <td>23012 Munoz Drive Suite 337\\r\\nNew Cynthia, TX...</td>\n",
       "      <td>20 IE</td>\n",
       "      <td>AM</td>\n",
       "      <td>Opera/9.58.(X11; Linux x86_64; it-IT) Presto/2...</td>\n",
       "      <td>Brown, Watson and Andrews</td>\n",
       "      <td>6011456623207990</td>\n",
       "      <td>25-Oct</td>\n",
       "      <td>678</td>\n",
       "      <td>Diners Club / Carte Blanche</td>\n",
       "      <td>christopherwright@gmail.com</td>\n",
       "      <td>Fine artist</td>\n",
       "      <td>24.140.33.94</td>\n",
       "      <td>es</td>\n",
       "      <td>77.82</td>\n",
       "    </tr>\n",
       "  </tbody>\n",
       "</table>\n",
       "</div>"
      ],
      "text/plain": [
       "                                             Address    Lot AM or PM  \\\n",
       "0  16629 Pace Camp Apt. 448\\r\\nAlexisborough, NE ...  46 in       PM   \n",
       "1  9374 Jasmine Spurs Suite 508\\r\\nSouth John, TN...  28 rn       PM   \n",
       "2                 Unit 0065 Box 5052\\r\\nDPO AP 27450  94 vE       PM   \n",
       "3            7780 Julia Fords\\r\\nNew Stacy, WA 45798  36 vm       PM   \n",
       "4  23012 Munoz Drive Suite 337\\r\\nNew Cynthia, TX...  20 IE       AM   \n",
       "\n",
       "                                        Browser Info  \\\n",
       "0  Opera/9.56.(X11; Linux x86_64; sl-SI) Presto/2...   \n",
       "1  Opera/8.93.(Windows 98; Win 9x 4.90; en-US) Pr...   \n",
       "2  Mozilla/5.0 (compatible; MSIE 9.0; Windows NT ...   \n",
       "3  Mozilla/5.0 (Macintosh; Intel Mac OS X 10_8_0 ...   \n",
       "4  Opera/9.58.(X11; Linux x86_64; it-IT) Presto/2...   \n",
       "\n",
       "                           Company       Credit Card CC Exp Date  \\\n",
       "0                  Martinez-Herman  6011929061123400      20-Feb   \n",
       "1  Fletcher, Richards and Whitaker  3337758169645350      18-Nov   \n",
       "2       Simpson, Williams and Pham      675957666125      19-Aug   \n",
       "3  Williams, Marshall and Buchanan  6011578504430710      24-Feb   \n",
       "4        Brown, Watson and Andrews  6011456623207990      25-Oct   \n",
       "\n",
       "   CC Security Code                  CC Provider  \\\n",
       "0               900                 JCB 16 digit   \n",
       "1               561                   Mastercard   \n",
       "2               699                 JCB 16 digit   \n",
       "3               384                     Discover   \n",
       "4               678  Diners Club / Carte Blanche   \n",
       "\n",
       "                            Email                                     Job  \\\n",
       "0               pdunlap@yahoo.com  Scientist, product/process development   \n",
       "1              anthony41@reed.com                       Drilling engineer   \n",
       "2  amymiller@morales-harrison.com                Customer service manager   \n",
       "3     brent16@olson-robinson.info                       Drilling engineer   \n",
       "4     christopherwright@gmail.com                             Fine artist   \n",
       "\n",
       "        IP Address Language  Purchase Price  \n",
       "0  149.146.147.205       el           98.14  \n",
       "1     15.160.41.51       fr           70.73  \n",
       "2   132.207.160.22       de            0.95  \n",
       "3     30.250.74.19       es           78.04  \n",
       "4     24.140.33.94       es           77.82  "
      ]
     },
     "execution_count": 14,
     "metadata": {},
     "output_type": "execute_result"
    }
   ],
   "source": [
    "ecom.head()"
   ]
  },
  {
   "cell_type": "code",
   "execution_count": 15,
   "metadata": {},
   "outputs": [
    {
     "data": {
      "text/plain": [
       "4932"
      ]
     },
     "execution_count": 15,
     "metadata": {},
     "output_type": "execute_result"
    }
   ],
   "source": [
    "sum(ecom['AM or PM']=='AM')"
   ]
  },
  {
   "cell_type": "code",
   "execution_count": 16,
   "metadata": {},
   "outputs": [
    {
     "data": {
      "text/plain": [
       "PM    5068\n",
       "AM    4932\n",
       "Name: AM or PM, dtype: int64"
      ]
     },
     "execution_count": 16,
     "metadata": {},
     "output_type": "execute_result"
    }
   ],
   "source": [
    "ecom['AM or PM'].value_counts()"
   ]
  },
  {
   "cell_type": "code",
   "execution_count": 18,
   "metadata": {},
   "outputs": [
    {
     "data": {
      "text/plain": [
       "Interior and spatial designer        31\n",
       "Lawyer                               30\n",
       "Social researcher                    28\n",
       "Designer, jewellery                  27\n",
       "Research officer, political party    27\n",
       "Name: Job, dtype: int64"
      ]
     },
     "execution_count": 18,
     "metadata": {},
     "output_type": "execute_result"
    }
   ],
   "source": [
    "ecom['Job'].value_counts().head()"
   ]
  },
  {
   "cell_type": "code",
   "execution_count": 19,
   "metadata": {},
   "outputs": [
    {
     "data": {
      "text/html": [
       "<div>\n",
       "<style scoped>\n",
       "    .dataframe tbody tr th:only-of-type {\n",
       "        vertical-align: middle;\n",
       "    }\n",
       "\n",
       "    .dataframe tbody tr th {\n",
       "        vertical-align: top;\n",
       "    }\n",
       "\n",
       "    .dataframe thead th {\n",
       "        text-align: right;\n",
       "    }\n",
       "</style>\n",
       "<table border=\"1\" class=\"dataframe\">\n",
       "  <thead>\n",
       "    <tr style=\"text-align: right;\">\n",
       "      <th></th>\n",
       "      <th>Address</th>\n",
       "      <th>Lot</th>\n",
       "      <th>AM or PM</th>\n",
       "      <th>Browser Info</th>\n",
       "      <th>Company</th>\n",
       "      <th>Credit Card</th>\n",
       "      <th>CC Exp Date</th>\n",
       "      <th>CC Security Code</th>\n",
       "      <th>CC Provider</th>\n",
       "      <th>Email</th>\n",
       "      <th>Job</th>\n",
       "      <th>IP Address</th>\n",
       "      <th>Language</th>\n",
       "      <th>Purchase Price</th>\n",
       "    </tr>\n",
       "  </thead>\n",
       "  <tbody>\n",
       "    <tr>\n",
       "      <td>0</td>\n",
       "      <td>16629 Pace Camp Apt. 448\\r\\nAlexisborough, NE ...</td>\n",
       "      <td>46 in</td>\n",
       "      <td>PM</td>\n",
       "      <td>Opera/9.56.(X11; Linux x86_64; sl-SI) Presto/2...</td>\n",
       "      <td>Martinez-Herman</td>\n",
       "      <td>6011929061123400</td>\n",
       "      <td>20-Feb</td>\n",
       "      <td>900</td>\n",
       "      <td>JCB 16 digit</td>\n",
       "      <td>pdunlap@yahoo.com</td>\n",
       "      <td>Scientist, product/process development</td>\n",
       "      <td>149.146.147.205</td>\n",
       "      <td>el</td>\n",
       "      <td>98.14</td>\n",
       "    </tr>\n",
       "    <tr>\n",
       "      <td>1</td>\n",
       "      <td>9374 Jasmine Spurs Suite 508\\r\\nSouth John, TN...</td>\n",
       "      <td>28 rn</td>\n",
       "      <td>PM</td>\n",
       "      <td>Opera/8.93.(Windows 98; Win 9x 4.90; en-US) Pr...</td>\n",
       "      <td>Fletcher, Richards and Whitaker</td>\n",
       "      <td>3337758169645350</td>\n",
       "      <td>18-Nov</td>\n",
       "      <td>561</td>\n",
       "      <td>Mastercard</td>\n",
       "      <td>anthony41@reed.com</td>\n",
       "      <td>Drilling engineer</td>\n",
       "      <td>15.160.41.51</td>\n",
       "      <td>fr</td>\n",
       "      <td>70.73</td>\n",
       "    </tr>\n",
       "    <tr>\n",
       "      <td>2</td>\n",
       "      <td>Unit 0065 Box 5052\\r\\nDPO AP 27450</td>\n",
       "      <td>94 vE</td>\n",
       "      <td>PM</td>\n",
       "      <td>Mozilla/5.0 (compatible; MSIE 9.0; Windows NT ...</td>\n",
       "      <td>Simpson, Williams and Pham</td>\n",
       "      <td>675957666125</td>\n",
       "      <td>19-Aug</td>\n",
       "      <td>699</td>\n",
       "      <td>JCB 16 digit</td>\n",
       "      <td>amymiller@morales-harrison.com</td>\n",
       "      <td>Customer service manager</td>\n",
       "      <td>132.207.160.22</td>\n",
       "      <td>de</td>\n",
       "      <td>0.95</td>\n",
       "    </tr>\n",
       "    <tr>\n",
       "      <td>3</td>\n",
       "      <td>7780 Julia Fords\\r\\nNew Stacy, WA 45798</td>\n",
       "      <td>36 vm</td>\n",
       "      <td>PM</td>\n",
       "      <td>Mozilla/5.0 (Macintosh; Intel Mac OS X 10_8_0 ...</td>\n",
       "      <td>Williams, Marshall and Buchanan</td>\n",
       "      <td>6011578504430710</td>\n",
       "      <td>24-Feb</td>\n",
       "      <td>384</td>\n",
       "      <td>Discover</td>\n",
       "      <td>brent16@olson-robinson.info</td>\n",
       "      <td>Drilling engineer</td>\n",
       "      <td>30.250.74.19</td>\n",
       "      <td>es</td>\n",
       "      <td>78.04</td>\n",
       "    </tr>\n",
       "    <tr>\n",
       "      <td>4</td>\n",
       "      <td>23012 Munoz Drive Suite 337\\r\\nNew Cynthia, TX...</td>\n",
       "      <td>20 IE</td>\n",
       "      <td>AM</td>\n",
       "      <td>Opera/9.58.(X11; Linux x86_64; it-IT) Presto/2...</td>\n",
       "      <td>Brown, Watson and Andrews</td>\n",
       "      <td>6011456623207990</td>\n",
       "      <td>25-Oct</td>\n",
       "      <td>678</td>\n",
       "      <td>Diners Club / Carte Blanche</td>\n",
       "      <td>christopherwright@gmail.com</td>\n",
       "      <td>Fine artist</td>\n",
       "      <td>24.140.33.94</td>\n",
       "      <td>es</td>\n",
       "      <td>77.82</td>\n",
       "    </tr>\n",
       "  </tbody>\n",
       "</table>\n",
       "</div>"
      ],
      "text/plain": [
       "                                             Address    Lot AM or PM  \\\n",
       "0  16629 Pace Camp Apt. 448\\r\\nAlexisborough, NE ...  46 in       PM   \n",
       "1  9374 Jasmine Spurs Suite 508\\r\\nSouth John, TN...  28 rn       PM   \n",
       "2                 Unit 0065 Box 5052\\r\\nDPO AP 27450  94 vE       PM   \n",
       "3            7780 Julia Fords\\r\\nNew Stacy, WA 45798  36 vm       PM   \n",
       "4  23012 Munoz Drive Suite 337\\r\\nNew Cynthia, TX...  20 IE       AM   \n",
       "\n",
       "                                        Browser Info  \\\n",
       "0  Opera/9.56.(X11; Linux x86_64; sl-SI) Presto/2...   \n",
       "1  Opera/8.93.(Windows 98; Win 9x 4.90; en-US) Pr...   \n",
       "2  Mozilla/5.0 (compatible; MSIE 9.0; Windows NT ...   \n",
       "3  Mozilla/5.0 (Macintosh; Intel Mac OS X 10_8_0 ...   \n",
       "4  Opera/9.58.(X11; Linux x86_64; it-IT) Presto/2...   \n",
       "\n",
       "                           Company       Credit Card CC Exp Date  \\\n",
       "0                  Martinez-Herman  6011929061123400      20-Feb   \n",
       "1  Fletcher, Richards and Whitaker  3337758169645350      18-Nov   \n",
       "2       Simpson, Williams and Pham      675957666125      19-Aug   \n",
       "3  Williams, Marshall and Buchanan  6011578504430710      24-Feb   \n",
       "4        Brown, Watson and Andrews  6011456623207990      25-Oct   \n",
       "\n",
       "   CC Security Code                  CC Provider  \\\n",
       "0               900                 JCB 16 digit   \n",
       "1               561                   Mastercard   \n",
       "2               699                 JCB 16 digit   \n",
       "3               384                     Discover   \n",
       "4               678  Diners Club / Carte Blanche   \n",
       "\n",
       "                            Email                                     Job  \\\n",
       "0               pdunlap@yahoo.com  Scientist, product/process development   \n",
       "1              anthony41@reed.com                       Drilling engineer   \n",
       "2  amymiller@morales-harrison.com                Customer service manager   \n",
       "3     brent16@olson-robinson.info                       Drilling engineer   \n",
       "4     christopherwright@gmail.com                             Fine artist   \n",
       "\n",
       "        IP Address Language  Purchase Price  \n",
       "0  149.146.147.205       el           98.14  \n",
       "1     15.160.41.51       fr           70.73  \n",
       "2   132.207.160.22       de            0.95  \n",
       "3     30.250.74.19       es           78.04  \n",
       "4     24.140.33.94       es           77.82  "
      ]
     },
     "execution_count": 19,
     "metadata": {},
     "output_type": "execute_result"
    }
   ],
   "source": [
    "ecom.head()"
   ]
  },
  {
   "cell_type": "code",
   "execution_count": 43,
   "metadata": {},
   "outputs": [
    {
     "data": {
      "text/plain": [
       "513    75.1\n",
       "Name: Purchase Price, dtype: float64"
      ]
     },
     "execution_count": 43,
     "metadata": {},
     "output_type": "execute_result"
    }
   ],
   "source": [
    "ecom[ecom['Lot']=='90 WT']['Purchase Price']"
   ]
  },
  {
   "cell_type": "code",
   "execution_count": 51,
   "metadata": {},
   "outputs": [
    {
     "data": {
      "text/plain": [
       "4    christopherwright@gmail.com\n",
       "Name: Email, dtype: object"
      ]
     },
     "execution_count": 51,
     "metadata": {},
     "output_type": "execute_result"
    }
   ],
   "source": [
    "ecom[ecom['Credit Card']==6011456623207990]['Email']"
   ]
  },
  {
   "cell_type": "code",
   "execution_count": 56,
   "metadata": {},
   "outputs": [
    {
     "ename": "TypeError",
     "evalue": "cannot compare a dtyped [float64] array with a scalar of type [bool]",
     "output_type": "error",
     "traceback": [
      "\u001b[1;31m---------------------------------------------------------------------------\u001b[0m",
      "\u001b[1;31mTypeError\u001b[0m                                 Traceback (most recent call last)",
      "\u001b[1;32m~\\Anaconda3\\lib\\site-packages\\pandas\\core\\ops\\__init__.py\u001b[0m in \u001b[0;36mna_op\u001b[1;34m(x, y)\u001b[0m\n\u001b[0;32m   1253\u001b[0m         \u001b[1;32mtry\u001b[0m\u001b[1;33m:\u001b[0m\u001b[1;33m\u001b[0m\u001b[1;33m\u001b[0m\u001b[0m\n\u001b[1;32m-> 1254\u001b[1;33m             \u001b[0mresult\u001b[0m \u001b[1;33m=\u001b[0m \u001b[0mop\u001b[0m\u001b[1;33m(\u001b[0m\u001b[0mx\u001b[0m\u001b[1;33m,\u001b[0m \u001b[0my\u001b[0m\u001b[1;33m)\u001b[0m\u001b[1;33m\u001b[0m\u001b[1;33m\u001b[0m\u001b[0m\n\u001b[0m\u001b[0;32m   1255\u001b[0m         \u001b[1;32mexcept\u001b[0m \u001b[0mTypeError\u001b[0m\u001b[1;33m:\u001b[0m\u001b[1;33m\u001b[0m\u001b[1;33m\u001b[0m\u001b[0m\n",
      "\u001b[1;32m~\\Anaconda3\\lib\\site-packages\\pandas\\core\\ops\\roperator.py\u001b[0m in \u001b[0;36mrand_\u001b[1;34m(left, right)\u001b[0m\n\u001b[0;32m     52\u001b[0m \u001b[1;32mdef\u001b[0m \u001b[0mrand_\u001b[0m\u001b[1;33m(\u001b[0m\u001b[0mleft\u001b[0m\u001b[1;33m,\u001b[0m \u001b[0mright\u001b[0m\u001b[1;33m)\u001b[0m\u001b[1;33m:\u001b[0m\u001b[1;33m\u001b[0m\u001b[1;33m\u001b[0m\u001b[0m\n\u001b[1;32m---> 53\u001b[1;33m     \u001b[1;32mreturn\u001b[0m \u001b[0moperator\u001b[0m\u001b[1;33m.\u001b[0m\u001b[0mand_\u001b[0m\u001b[1;33m(\u001b[0m\u001b[0mright\u001b[0m\u001b[1;33m,\u001b[0m \u001b[0mleft\u001b[0m\u001b[1;33m)\u001b[0m\u001b[1;33m\u001b[0m\u001b[1;33m\u001b[0m\u001b[0m\n\u001b[0m\u001b[0;32m     54\u001b[0m \u001b[1;33m\u001b[0m\u001b[0m\n",
      "\u001b[1;31mTypeError\u001b[0m: ufunc 'bitwise_and' not supported for the input types, and the inputs could not be safely coerced to any supported types according to the casting rule ''safe''",
      "\nDuring handling of the above exception, another exception occurred:\n",
      "\u001b[1;31mValueError\u001b[0m                                Traceback (most recent call last)",
      "\u001b[1;32m~\\Anaconda3\\lib\\site-packages\\pandas\\core\\ops\\__init__.py\u001b[0m in \u001b[0;36mna_op\u001b[1;34m(x, y)\u001b[0m\n\u001b[0;32m   1268\u001b[0m                 \u001b[1;32mtry\u001b[0m\u001b[1;33m:\u001b[0m\u001b[1;33m\u001b[0m\u001b[1;33m\u001b[0m\u001b[0m\n\u001b[1;32m-> 1269\u001b[1;33m                     \u001b[0mresult\u001b[0m \u001b[1;33m=\u001b[0m \u001b[0mlibops\u001b[0m\u001b[1;33m.\u001b[0m\u001b[0mscalar_binop\u001b[0m\u001b[1;33m(\u001b[0m\u001b[0mx\u001b[0m\u001b[1;33m,\u001b[0m \u001b[0my\u001b[0m\u001b[1;33m,\u001b[0m \u001b[0mop\u001b[0m\u001b[1;33m)\u001b[0m\u001b[1;33m\u001b[0m\u001b[1;33m\u001b[0m\u001b[0m\n\u001b[0m\u001b[0;32m   1270\u001b[0m                 except (\n",
      "\u001b[1;32mpandas\\_libs\\ops.pyx\u001b[0m in \u001b[0;36mpandas._libs.ops.scalar_binop\u001b[1;34m()\u001b[0m\n",
      "\u001b[1;31mValueError\u001b[0m: Buffer dtype mismatch, expected 'Python object' but got 'double'",
      "\nDuring handling of the above exception, another exception occurred:\n",
      "\u001b[1;31mTypeError\u001b[0m                                 Traceback (most recent call last)",
      "\u001b[1;32m<ipython-input-56-0171e77c307e>\u001b[0m in \u001b[0;36m<module>\u001b[1;34m\u001b[0m\n\u001b[1;32m----> 1\u001b[1;33m \u001b[0mecom\u001b[0m\u001b[1;33m[\u001b[0m\u001b[1;34m'CC Provider'\u001b[0m\u001b[1;33m]\u001b[0m\u001b[1;33m==\u001b[0m\u001b[1;34m'American Express'\u001b[0m \u001b[1;33m&\u001b[0m \u001b[0mecom\u001b[0m\u001b[1;33m[\u001b[0m\u001b[1;34m'Purchase Price'\u001b[0m\u001b[1;33m]\u001b[0m\u001b[1;33m>\u001b[0m\u001b[1;36m95\u001b[0m\u001b[1;33m\u001b[0m\u001b[1;33m\u001b[0m\u001b[0m\n\u001b[0m",
      "\u001b[1;32m~\\Anaconda3\\lib\\site-packages\\pandas\\core\\ops\\__init__.py\u001b[0m in \u001b[0;36mwrapper\u001b[1;34m(self, other)\u001b[0m\n\u001b[0;32m   1319\u001b[0m         \u001b[1;31m#   integer dtypes.  Otherwise these are boolean ops\u001b[0m\u001b[1;33m\u001b[0m\u001b[1;33m\u001b[0m\u001b[1;33m\u001b[0m\u001b[0m\n\u001b[0;32m   1320\u001b[0m         \u001b[0mfiller\u001b[0m \u001b[1;33m=\u001b[0m \u001b[0mfill_int\u001b[0m \u001b[1;32mif\u001b[0m \u001b[0mis_self_int_dtype\u001b[0m \u001b[1;32mand\u001b[0m \u001b[0mis_other_int_dtype\u001b[0m \u001b[1;32melse\u001b[0m \u001b[0mfill_bool\u001b[0m\u001b[1;33m\u001b[0m\u001b[1;33m\u001b[0m\u001b[0m\n\u001b[1;32m-> 1321\u001b[1;33m         \u001b[0mres_values\u001b[0m \u001b[1;33m=\u001b[0m \u001b[0mna_op\u001b[0m\u001b[1;33m(\u001b[0m\u001b[0mself\u001b[0m\u001b[1;33m.\u001b[0m\u001b[0mvalues\u001b[0m\u001b[1;33m,\u001b[0m \u001b[0movalues\u001b[0m\u001b[1;33m)\u001b[0m\u001b[1;33m\u001b[0m\u001b[1;33m\u001b[0m\u001b[0m\n\u001b[0m\u001b[0;32m   1322\u001b[0m         \u001b[0munfilled\u001b[0m \u001b[1;33m=\u001b[0m \u001b[0mself\u001b[0m\u001b[1;33m.\u001b[0m\u001b[0m_constructor\u001b[0m\u001b[1;33m(\u001b[0m\u001b[0mres_values\u001b[0m\u001b[1;33m,\u001b[0m \u001b[0mindex\u001b[0m\u001b[1;33m=\u001b[0m\u001b[0mself\u001b[0m\u001b[1;33m.\u001b[0m\u001b[0mindex\u001b[0m\u001b[1;33m,\u001b[0m \u001b[0mname\u001b[0m\u001b[1;33m=\u001b[0m\u001b[0mres_name\u001b[0m\u001b[1;33m)\u001b[0m\u001b[1;33m\u001b[0m\u001b[1;33m\u001b[0m\u001b[0m\n\u001b[0;32m   1323\u001b[0m         \u001b[0mfilled\u001b[0m \u001b[1;33m=\u001b[0m \u001b[0mfiller\u001b[0m\u001b[1;33m(\u001b[0m\u001b[0munfilled\u001b[0m\u001b[1;33m)\u001b[0m\u001b[1;33m\u001b[0m\u001b[1;33m\u001b[0m\u001b[0m\n",
      "\u001b[1;32m~\\Anaconda3\\lib\\site-packages\\pandas\\core\\ops\\__init__.py\u001b[0m in \u001b[0;36mna_op\u001b[1;34m(x, y)\u001b[0m\n\u001b[0;32m   1278\u001b[0m                         \u001b[1;34m\"cannot compare a dtyped [{dtype}] array \"\u001b[0m\u001b[1;33m\u001b[0m\u001b[1;33m\u001b[0m\u001b[0m\n\u001b[0;32m   1279\u001b[0m                         \"with a scalar of type [{typ}]\".format(\n\u001b[1;32m-> 1280\u001b[1;33m                             \u001b[0mdtype\u001b[0m\u001b[1;33m=\u001b[0m\u001b[0mx\u001b[0m\u001b[1;33m.\u001b[0m\u001b[0mdtype\u001b[0m\u001b[1;33m,\u001b[0m \u001b[0mtyp\u001b[0m\u001b[1;33m=\u001b[0m\u001b[0mtype\u001b[0m\u001b[1;33m(\u001b[0m\u001b[0my\u001b[0m\u001b[1;33m)\u001b[0m\u001b[1;33m.\u001b[0m\u001b[0m__name__\u001b[0m\u001b[1;33m\u001b[0m\u001b[1;33m\u001b[0m\u001b[0m\n\u001b[0m\u001b[0;32m   1281\u001b[0m                         )\n\u001b[0;32m   1282\u001b[0m                     )\n",
      "\u001b[1;31mTypeError\u001b[0m: cannot compare a dtyped [float64] array with a scalar of type [bool]"
     ]
    }
   ],
   "source": [
    "ecom['CC Provider']=='American Express' & ecom['Purchase Price']>95"
   ]
  },
  {
   "cell_type": "code",
   "execution_count": 68,
   "metadata": {},
   "outputs": [
    {
     "data": {
      "text/plain": [
       "Address             39\n",
       "Lot                 39\n",
       "AM or PM            39\n",
       "Browser Info        39\n",
       "Company             39\n",
       "Credit Card         39\n",
       "CC Exp Date         39\n",
       "CC Security Code    39\n",
       "CC Provider         39\n",
       "Email               39\n",
       "Job                 39\n",
       "IP Address          39\n",
       "Language            39\n",
       "Purchase Price      39\n",
       "dtype: int64"
      ]
     },
     "execution_count": 68,
     "metadata": {},
     "output_type": "execute_result"
    }
   ],
   "source": [
    "ecom[(ecom['CC Provider']=='American Express') & (ecom['Purchase Price'] > 95)].count()"
   ]
  },
  {
   "cell_type": "code",
   "execution_count": 69,
   "metadata": {},
   "outputs": [
    {
     "data": {
      "text/html": [
       "<div>\n",
       "<style scoped>\n",
       "    .dataframe tbody tr th:only-of-type {\n",
       "        vertical-align: middle;\n",
       "    }\n",
       "\n",
       "    .dataframe tbody tr th {\n",
       "        vertical-align: top;\n",
       "    }\n",
       "\n",
       "    .dataframe thead th {\n",
       "        text-align: right;\n",
       "    }\n",
       "</style>\n",
       "<table border=\"1\" class=\"dataframe\">\n",
       "  <thead>\n",
       "    <tr style=\"text-align: right;\">\n",
       "      <th></th>\n",
       "      <th>Address</th>\n",
       "      <th>Lot</th>\n",
       "      <th>AM or PM</th>\n",
       "      <th>Browser Info</th>\n",
       "      <th>Company</th>\n",
       "      <th>Credit Card</th>\n",
       "      <th>CC Exp Date</th>\n",
       "      <th>CC Security Code</th>\n",
       "      <th>CC Provider</th>\n",
       "      <th>Email</th>\n",
       "      <th>Job</th>\n",
       "      <th>IP Address</th>\n",
       "      <th>Language</th>\n",
       "      <th>Purchase Price</th>\n",
       "    </tr>\n",
       "  </thead>\n",
       "  <tbody>\n",
       "    <tr>\n",
       "      <td>0</td>\n",
       "      <td>16629 Pace Camp Apt. 448\\r\\nAlexisborough, NE ...</td>\n",
       "      <td>46 in</td>\n",
       "      <td>PM</td>\n",
       "      <td>Opera/9.56.(X11; Linux x86_64; sl-SI) Presto/2...</td>\n",
       "      <td>Martinez-Herman</td>\n",
       "      <td>6011929061123400</td>\n",
       "      <td>20-Feb</td>\n",
       "      <td>900</td>\n",
       "      <td>JCB 16 digit</td>\n",
       "      <td>pdunlap@yahoo.com</td>\n",
       "      <td>Scientist, product/process development</td>\n",
       "      <td>149.146.147.205</td>\n",
       "      <td>el</td>\n",
       "      <td>98.14</td>\n",
       "    </tr>\n",
       "    <tr>\n",
       "      <td>1</td>\n",
       "      <td>9374 Jasmine Spurs Suite 508\\r\\nSouth John, TN...</td>\n",
       "      <td>28 rn</td>\n",
       "      <td>PM</td>\n",
       "      <td>Opera/8.93.(Windows 98; Win 9x 4.90; en-US) Pr...</td>\n",
       "      <td>Fletcher, Richards and Whitaker</td>\n",
       "      <td>3337758169645350</td>\n",
       "      <td>18-Nov</td>\n",
       "      <td>561</td>\n",
       "      <td>Mastercard</td>\n",
       "      <td>anthony41@reed.com</td>\n",
       "      <td>Drilling engineer</td>\n",
       "      <td>15.160.41.51</td>\n",
       "      <td>fr</td>\n",
       "      <td>70.73</td>\n",
       "    </tr>\n",
       "    <tr>\n",
       "      <td>2</td>\n",
       "      <td>Unit 0065 Box 5052\\r\\nDPO AP 27450</td>\n",
       "      <td>94 vE</td>\n",
       "      <td>PM</td>\n",
       "      <td>Mozilla/5.0 (compatible; MSIE 9.0; Windows NT ...</td>\n",
       "      <td>Simpson, Williams and Pham</td>\n",
       "      <td>675957666125</td>\n",
       "      <td>19-Aug</td>\n",
       "      <td>699</td>\n",
       "      <td>JCB 16 digit</td>\n",
       "      <td>amymiller@morales-harrison.com</td>\n",
       "      <td>Customer service manager</td>\n",
       "      <td>132.207.160.22</td>\n",
       "      <td>de</td>\n",
       "      <td>0.95</td>\n",
       "    </tr>\n",
       "    <tr>\n",
       "      <td>3</td>\n",
       "      <td>7780 Julia Fords\\r\\nNew Stacy, WA 45798</td>\n",
       "      <td>36 vm</td>\n",
       "      <td>PM</td>\n",
       "      <td>Mozilla/5.0 (Macintosh; Intel Mac OS X 10_8_0 ...</td>\n",
       "      <td>Williams, Marshall and Buchanan</td>\n",
       "      <td>6011578504430710</td>\n",
       "      <td>24-Feb</td>\n",
       "      <td>384</td>\n",
       "      <td>Discover</td>\n",
       "      <td>brent16@olson-robinson.info</td>\n",
       "      <td>Drilling engineer</td>\n",
       "      <td>30.250.74.19</td>\n",
       "      <td>es</td>\n",
       "      <td>78.04</td>\n",
       "    </tr>\n",
       "    <tr>\n",
       "      <td>4</td>\n",
       "      <td>23012 Munoz Drive Suite 337\\r\\nNew Cynthia, TX...</td>\n",
       "      <td>20 IE</td>\n",
       "      <td>AM</td>\n",
       "      <td>Opera/9.58.(X11; Linux x86_64; it-IT) Presto/2...</td>\n",
       "      <td>Brown, Watson and Andrews</td>\n",
       "      <td>6011456623207990</td>\n",
       "      <td>25-Oct</td>\n",
       "      <td>678</td>\n",
       "      <td>Diners Club / Carte Blanche</td>\n",
       "      <td>christopherwright@gmail.com</td>\n",
       "      <td>Fine artist</td>\n",
       "      <td>24.140.33.94</td>\n",
       "      <td>es</td>\n",
       "      <td>77.82</td>\n",
       "    </tr>\n",
       "  </tbody>\n",
       "</table>\n",
       "</div>"
      ],
      "text/plain": [
       "                                             Address    Lot AM or PM  \\\n",
       "0  16629 Pace Camp Apt. 448\\r\\nAlexisborough, NE ...  46 in       PM   \n",
       "1  9374 Jasmine Spurs Suite 508\\r\\nSouth John, TN...  28 rn       PM   \n",
       "2                 Unit 0065 Box 5052\\r\\nDPO AP 27450  94 vE       PM   \n",
       "3            7780 Julia Fords\\r\\nNew Stacy, WA 45798  36 vm       PM   \n",
       "4  23012 Munoz Drive Suite 337\\r\\nNew Cynthia, TX...  20 IE       AM   \n",
       "\n",
       "                                        Browser Info  \\\n",
       "0  Opera/9.56.(X11; Linux x86_64; sl-SI) Presto/2...   \n",
       "1  Opera/8.93.(Windows 98; Win 9x 4.90; en-US) Pr...   \n",
       "2  Mozilla/5.0 (compatible; MSIE 9.0; Windows NT ...   \n",
       "3  Mozilla/5.0 (Macintosh; Intel Mac OS X 10_8_0 ...   \n",
       "4  Opera/9.58.(X11; Linux x86_64; it-IT) Presto/2...   \n",
       "\n",
       "                           Company       Credit Card CC Exp Date  \\\n",
       "0                  Martinez-Herman  6011929061123400      20-Feb   \n",
       "1  Fletcher, Richards and Whitaker  3337758169645350      18-Nov   \n",
       "2       Simpson, Williams and Pham      675957666125      19-Aug   \n",
       "3  Williams, Marshall and Buchanan  6011578504430710      24-Feb   \n",
       "4        Brown, Watson and Andrews  6011456623207990      25-Oct   \n",
       "\n",
       "   CC Security Code                  CC Provider  \\\n",
       "0               900                 JCB 16 digit   \n",
       "1               561                   Mastercard   \n",
       "2               699                 JCB 16 digit   \n",
       "3               384                     Discover   \n",
       "4               678  Diners Club / Carte Blanche   \n",
       "\n",
       "                            Email                                     Job  \\\n",
       "0               pdunlap@yahoo.com  Scientist, product/process development   \n",
       "1              anthony41@reed.com                       Drilling engineer   \n",
       "2  amymiller@morales-harrison.com                Customer service manager   \n",
       "3     brent16@olson-robinson.info                       Drilling engineer   \n",
       "4     christopherwright@gmail.com                             Fine artist   \n",
       "\n",
       "        IP Address Language  Purchase Price  \n",
       "0  149.146.147.205       el           98.14  \n",
       "1     15.160.41.51       fr           70.73  \n",
       "2   132.207.160.22       de            0.95  \n",
       "3     30.250.74.19       es           78.04  \n",
       "4     24.140.33.94       es           77.82  "
      ]
     },
     "execution_count": 69,
     "metadata": {},
     "output_type": "execute_result"
    }
   ],
   "source": [
    "ecom.head()"
   ]
  },
  {
   "cell_type": "code",
   "execution_count": 82,
   "metadata": {},
   "outputs": [
    {
     "data": {
      "text/plain": [
       "hotmail.com     1638\n",
       "yahoo.com       1616\n",
       "gmail.com       1605\n",
       "smith.com         42\n",
       "williams.com      37\n",
       "Name: Email, dtype: int64"
      ]
     },
     "execution_count": 82,
     "metadata": {},
     "output_type": "execute_result"
    }
   ],
   "source": [
    "ecom['Email'].apply(lambda email : email.split('@')[1]).value_counts().head()"
   ]
  },
  {
   "cell_type": "code",
   "execution_count": 95,
   "metadata": {},
   "outputs": [
    {
     "name": "stdout",
     "output_type": "stream",
     "text": [
      "<class 'pandas.core.frame.DataFrame'>\n",
      "RangeIndex: 10000 entries, 0 to 9999\n",
      "Data columns (total 14 columns):\n",
      "Address             10000 non-null object\n",
      "Lot                 10000 non-null object\n",
      "AM or PM            10000 non-null object\n",
      "Browser Info        10000 non-null object\n",
      "Company             10000 non-null object\n",
      "Credit Card         10000 non-null int64\n",
      "CC Exp Date         10000 non-null object\n",
      "CC Security Code    10000 non-null int64\n",
      "CC Provider         10000 non-null object\n",
      "Email               10000 non-null object\n",
      "Job                 10000 non-null object\n",
      "IP Address          10000 non-null object\n",
      "Language            10000 non-null object\n",
      "Purchase Price      10000 non-null float64\n",
      "dtypes: float64(1), int64(2), object(11)\n",
      "memory usage: 1.1+ MB\n"
     ]
    }
   ],
   "source": [
    "ecom.info()"
   ]
  },
  {
   "cell_type": "code",
   "execution_count": null,
   "metadata": {},
   "outputs": [],
   "source": []
  }
 ],
 "metadata": {
  "kernelspec": {
   "display_name": "Python 3",
   "language": "python",
   "name": "python3"
  },
  "language_info": {
   "codemirror_mode": {
    "name": "ipython",
    "version": 3
   },
   "file_extension": ".py",
   "mimetype": "text/x-python",
   "name": "python",
   "nbconvert_exporter": "python",
   "pygments_lexer": "ipython3",
   "version": "3.7.4"
  }
 },
 "nbformat": 4,
 "nbformat_minor": 2
}
